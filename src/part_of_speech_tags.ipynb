{
 "cells": [
  {
   "cell_type": "code",
   "execution_count": 1,
   "id": "innovative-forge",
   "metadata": {},
   "outputs": [
    {
     "name": "stdout",
     "output_type": "stream",
     "text": [
      "/Users/carol/PycharmProjects/cs329/src\n",
      "/Users/carol/PycharmProjects/cs329 <class 'pathlib.PosixPath'>\n"
     ]
    }
   ],
   "source": [
    "from pathlib import Path\n",
    "\n",
    "path = Path.cwd()\n",
    "print(path)\n",
    "\n",
    "while path.name != 'cs329':\n",
    "    path = path.parent\n",
    "\n",
    "print(path, type(path))"
   ]
  },
  {
   "cell_type": "code",
   "execution_count": 2,
   "id": "confirmed-america",
   "metadata": {},
   "outputs": [
    {
     "name": "stdout",
     "output_type": "stream",
     "text": [
      "/Users/carol/PycharmProjects/cs329/dat/pos\n"
     ]
    }
   ],
   "source": [
    "path /= 'dat/pos'\n",
    "path.mkdir(parents=True, exist_ok=True)\n",
    "print(path)"
   ]
  },
  {
   "cell_type": "code",
   "execution_count": 3,
   "id": "solved-surrey",
   "metadata": {},
   "outputs": [],
   "source": [
    "import requests\n",
    "\n",
    "def download(remote_addr: str, local_addr: str):\n",
    "    r = requests.get(remote_addr)\n",
    "\n",
    "    with open(local_addr, 'wb') as fin:\n",
    "        fin.write(r.content)"
   ]
  },
  {
   "cell_type": "code",
   "execution_count": 6,
   "id": "fresh-bidding",
   "metadata": {},
   "outputs": [],
   "source": [
    "def read_data(filename: str):\n",
    "    data, sentence = [], []\n",
    "    fin = open(filename)\n",
    "    \n",
    "    for line in fin:\n",
    "        l = line.split()\n",
    "        if l:\n",
    "            sentence.append((l[0], l[1]))\n",
    "        else:\n",
    "            data.append(sentence)\n",
    "            sentence = []\n",
    "    \n",
    "    return data"
   ]
  },
  {
   "cell_type": "code",
   "execution_count": 7,
   "id": "pharmaceutical-timeline",
   "metadata": {},
   "outputs": [
    {
     "name": "stdout",
     "output_type": "stream",
     "text": [
      "38219\n",
      "[('Pierre', 'NNP'), ('Vinken', 'NNP'), (',', ','), ('61', 'CD'), ('years', 'NNS'), ('old', 'JJ'), (',', ','), ('will', 'MD'), ('join', 'VB'), ('the', 'DT'), ('board', 'NN'), ('as', 'IN'), ('a', 'DT'), ('nonexecutive', 'JJ'), ('director', 'NN'), ('Nov.', 'NNP'), ('29', 'CD'), ('.', '.')]\n"
     ]
    }
   ],
   "source": [
    "trn_data = read_data(path / 'wsj-pos.trn.gold.tsv')\n",
    "print(len(trn_data))\n",
    "print(trn_data[0])"
   ]
  },
  {
   "cell_type": "code",
   "execution_count": null,
   "id": "beginning-arrangement",
   "metadata": {},
   "outputs": [],
   "source": []
  }
 ],
 "metadata": {
  "kernelspec": {
   "display_name": "Python 3",
   "language": "python",
   "name": "python3"
  },
  "language_info": {
   "codemirror_mode": {
    "name": "ipython",
    "version": 3
   },
   "file_extension": ".py",
   "mimetype": "text/x-python",
   "name": "python",
   "nbconvert_exporter": "python",
   "pygments_lexer": "ipython3",
   "version": "3.9.1"
  }
 },
 "nbformat": 4,
 "nbformat_minor": 5
}